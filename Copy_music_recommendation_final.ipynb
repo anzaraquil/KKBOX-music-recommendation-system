{
  "nbformat": 4,
  "nbformat_minor": 0,
  "metadata": {
    "colab": {
      "name": "Copy_music_recommendation_final.ipynb",
      "provenance": [],
      "collapsed_sections": [],
      "machine_shape": "hm"
    },
    "kernelspec": {
      "name": "python3",
      "display_name": "Python 3"
    },
    "accelerator": "GPU"
  },
  "cells": [
    {
      "cell_type": "markdown",
      "metadata": {
        "id": "PUxYQqnrCHJ7",
        "colab_type": "text"
      },
      "source": [
        "#**KKBox music recommendation challenge**\n",
        "- KKBox is music streaming platform, like gaana.com,saavan.com..,, they have provided their\n",
        "dataset to ML_community through kaggle.com and they want ML_community to build a better\n",
        "music recommendation system using newer algorithms, currently they are using collaborative\n",
        "filtering based algorithms with matrix factorization and word embedding in their recommendation\n",
        "system.\n",
        "\n",
        "- We have used logistic regression model which will predict whether a user will re-listen to the song or not by evaluating given features of the user\n",
        "and song"
      ]
    },
    {
      "cell_type": "code",
      "metadata": {
        "id": "JKOr--w76V0k",
        "colab_type": "code",
        "colab": {
          "base_uri": "https://localhost:8080/",
          "height": 71
        },
        "outputId": "6f390396-770c-4f0e-c795-200c45690dec"
      },
      "source": [
        "# Importing basic libraries\n",
        "import numpy as np\n",
        "import pandas as pd \n",
        "import seaborn as sns \n",
        "import matplotlib.pyplot as plt\n",
        "import missingno as msno\n",
        "import time\n",
        "import gc\n",
        "from sklearn.preprocessing import StandardScaler\n",
        "from sklearn.preprocessing import LabelEncoder\n",
        "from sklearn.preprocessing import MinMaxScaler\n",
        "from sklearn.linear_model import SGDClassifier\n",
        "from sklearn.model_selection import GridSearchCV\n",
        "from sklearn.tree import DecisionTreeClassifier\n",
        "from sklearn.ensemble import RandomForestClassifier, VotingClassifier, StackingClassifier\n",
        "from sklearn.model_selection import RandomizedSearchCV\n",
        "from sklearn.feature_selection import SelectKBest, chi2, f_classif\n",
        "from sklearn.decomposition import PCA\n",
        "import xgboost\n",
        "import lightgbm as lgb\n",
        "from sklearn import tree\n",
        "import seaborn as sns\n",
        "import matplotlib.pyplot as plt\n",
        "import time\n",
        "# Deep learning libraries\n",
        "import tensorflow as tf\n",
        "from tensorflow import keras\n",
        "from tensorflow.keras import layers, Input, Model\n",
        "from tensorflow.keras.layers import Dense, Dropout, BatchNormalization\n",
        "from sklearn.metrics import roc_auc_score"
      ],
      "execution_count": null,
      "outputs": [
        {
          "output_type": "stream",
          "text": [
            "/usr/local/lib/python3.6/dist-packages/statsmodels/tools/_testing.py:19: FutureWarning: pandas.util.testing is deprecated. Use the functions in the public API at pandas.testing instead.\n",
            "  import pandas.util.testing as tm\n"
          ],
          "name": "stderr"
        }
      ]
    },
    {
      "cell_type": "code",
      "metadata": {
        "id": "AG1NlOaP6bOI",
        "colab_type": "code",
        "colab": {
          "base_uri": "https://localhost:8080/",
          "height": 34
        },
        "outputId": "ecb4a8d5-1ee9-4125-bb4b-c4b4caebe9ab"
      },
      "source": [
        "#mounting my google drive\n",
        "from google.colab import drive\n",
        "drive.mount('/content/drive')"
      ],
      "execution_count": null,
      "outputs": [
        {
          "output_type": "stream",
          "text": [
            "Mounted at /content/drive\n"
          ],
          "name": "stdout"
        }
      ]
    },
    {
      "cell_type": "code",
      "metadata": {
        "id": "wLgY3Tg66eWx",
        "colab_type": "code",
        "colab": {}
      },
      "source": [
        "#importing my final_train dataset from google drive\n",
        "final_train = pd.read_csv('/content/drive/My Drive/music recommendation system/copy_final_train.csv')"
      ],
      "execution_count": null,
      "outputs": []
    },
    {
      "cell_type": "code",
      "metadata": {
        "id": "qeYTjMzG6kbt",
        "colab_type": "code",
        "colab": {}
      },
      "source": [
        "Y = final_train['target'].values\n",
        "X = final_train.drop(['target'], axis=1)"
      ],
      "execution_count": null,
      "outputs": []
    },
    {
      "cell_type": "code",
      "metadata": {
        "id": "CeAPVgoL6nJW",
        "colab_type": "code",
        "colab": {}
      },
      "source": [
        "#splitting data into train, test and cross validation\n",
        "from sklearn.model_selection import train_test_split\n",
        "x_train,x_test,y_train,y_test=train_test_split(X,Y,test_size=0.40,random_state=42)\n",
        "x_train,x_cv,y_train,y_cv    =train_test_split(x_train,y_train,test_size=0.33,random_state=42)"
      ],
      "execution_count": null,
      "outputs": []
    },
    {
      "cell_type": "code",
      "metadata": {
        "id": "TTKZ4YsD6pH-",
        "colab_type": "code",
        "colab": {}
      },
      "source": [
        "#taking less data because of RAM limitation\n",
        "x_train = x_train[:2965721] \n",
        "y_train = y_train[:2965721] \n",
        "x_cv = x_cv[:100000]\n",
        "y_cv = y_cv[:100000]\n",
        "x_test = x_test[:2556790]\n",
        "y_test = y_test[:2556790]"
      ],
      "execution_count": null,
      "outputs": []
    },
    {
      "cell_type": "markdown",
      "metadata": {
        "id": "Q46FQcZzANoh",
        "colab_type": "text"
      },
      "source": [
        "#**Label encoding**\n",
        "- Numeric feature"
      ]
    },
    {
      "cell_type": "code",
      "metadata": {
        "id": "A1yfG9fh6xxz",
        "colab_type": "code",
        "colab": {}
      },
      "source": [
        "numeric_features = ['bd','city','language','registered_via','song_duration_minutes','genre_id','song_year',\\\n",
        "                   'member_song_count', 'artist_song_count', 'lang_song_count', 'song_member_count', 'age_song_count'] "
      ],
      "execution_count": null,
      "outputs": []
    },
    {
      "cell_type": "code",
      "metadata": {
        "id": "LTf5FUp86z7g",
        "colab_type": "code",
        "colab": {}
      },
      "source": [
        "# transform numeric values\n",
        "pd.set_option('mode.chained_assignment', None)\n",
        "for feature in numeric_features:\n",
        "  scaler           = StandardScaler()\n",
        "  x_train[feature] = scaler.fit_transform(x_train[feature].values.reshape(-1,1))\n",
        "  x_cv[feature]    = scaler.transform(x_cv[feature].values.reshape(-1,1))\n",
        "  x_test[feature]  = scaler.transform(x_test[feature].values.reshape(-1,1))"
      ],
      "execution_count": null,
      "outputs": []
    },
    {
      "cell_type": "markdown",
      "metadata": {
        "id": "zxKWFh3gAa_s",
        "colab_type": "text"
      },
      "source": [
        "#**Label encoding**\n",
        "- Categorical feature"
      ]
    },
    {
      "cell_type": "code",
      "metadata": {
        "id": "Xb9u0Ixb62nC",
        "colab_type": "code",
        "colab": {}
      },
      "source": [
        "cat_features = ['msno', 'song_id', 'source_system_tab','artist_name','source_screen_name', 'source_type', 'city', 'gender',\\\n",
        "                'registered_via', 'name', 'year', 'month', 'day','country_code','registration_code',\\\n",
        "                'ex_year', 'ex_month', 'ex_day', 'language','registration_init_time','expiration_date']"
      ],
      "execution_count": null,
      "outputs": []
    },
    {
      "cell_type": "code",
      "metadata": {
        "id": "dTDL0l8-651M",
        "colab_type": "code",
        "colab": {
          "base_uri": "https://localhost:8080/",
          "height": 428
        },
        "outputId": "a3ec96d6-d168-4aab-f7b9-b502f899559b"
      },
      "source": [
        "# transform categorical values\n",
        "pd.set_option('mode.chained_assignment', None)\n",
        "for feature in cat_features:\n",
        "  le = LabelEncoder()\n",
        "  print(feature)\n",
        "  combined          = x_train[feature].append(x_cv[feature])\n",
        "  combined          = set(combined.append(x_test[feature]))\n",
        "  combined          = np.array(list(combined))\n",
        "  le                = le.fit(combined)\n",
        "  x_train[feature]  = le.transform(x_train[feature].values.reshape(-1,1))\n",
        "  x_cv[feature]     = le.transform(x_cv[feature].values.reshape(-1,1))\n",
        "  x_test[feature]   = le.transform(x_test[feature].values.reshape(-1,1))"
      ],
      "execution_count": null,
      "outputs": [
        {
          "output_type": "stream",
          "text": [
            "msno\n"
          ],
          "name": "stdout"
        },
        {
          "output_type": "stream",
          "text": [
            "/usr/local/lib/python3.6/dist-packages/sklearn/preprocessing/_label.py:268: DataConversionWarning: A column-vector y was passed when a 1d array was expected. Please change the shape of y to (n_samples, ), for example using ravel().\n",
            "  y = column_or_1d(y, warn=True)\n"
          ],
          "name": "stderr"
        },
        {
          "output_type": "stream",
          "text": [
            "song_id\n",
            "source_system_tab\n",
            "artist_name\n",
            "source_screen_name\n",
            "source_type\n",
            "city\n",
            "gender\n",
            "registered_via\n",
            "name\n",
            "year\n",
            "month\n",
            "day\n",
            "country_code\n",
            "registration_code\n",
            "ex_year\n",
            "ex_month\n",
            "ex_day\n",
            "language\n",
            "registration_init_time\n",
            "expiration_date\n"
          ],
          "name": "stdout"
        }
      ]
    },
    {
      "cell_type": "markdown",
      "metadata": {
        "id": "WOn1ftJb8_n5",
        "colab_type": "text"
      },
      "source": [
        "##**Final Functions**\n",
        "- Since we got highest kaggle score for logistic regression model therefore we are going to use logisticregression model for prediction\n",
        "\n",
        "- We already did FE+EDA previously on the basis of this FE+EDA we we will define our final functions\n",
        "\n",
        "\n",
        "1.   Final functions includes two function\n",
        "\n",
        " >   function1: will take the extracted features and will apply best model on top of it and return the prediction label, either user will listen the song or not.\n",
        "\n",
        " >   function2: Second function will take features and corresponding labels and will return auc score.\n",
        "\n",
        "\n",
        "\n",
        "\n",
        "\n",
        "\n"
      ]
    },
    {
      "cell_type": "code",
      "metadata": {
        "id": "CQmKlWrC68mU",
        "colab_type": "code",
        "colab": {}
      },
      "source": [
        "def function_1(data_point, best_model):\n",
        "  '''This function will take features and predict the label using best model'''\n",
        "  label = best_model.predict(data_point)\n",
        "  print('The label is : ', label)"
      ],
      "execution_count": null,
      "outputs": []
    },
    {
      "cell_type": "code",
      "metadata": {
        "id": "Jzcm8Ut26_BU",
        "colab_type": "code",
        "colab": {}
      },
      "source": [
        "def function_2(data_point, label, best_model):\n",
        "  '''This function will calculate metric for given input features'''\n",
        "  predicted_label = best_model.predict(data_point)\n",
        "  auc = roc_auc_score(label, predicted_label)\n",
        "  print('AUC is : ', auc)"
      ],
      "execution_count": null,
      "outputs": []
    },
    {
      "cell_type": "code",
      "metadata": {
        "id": "5EGGXQka7BJ2",
        "colab_type": "code",
        "colab": {}
      },
      "source": [
        "# importing our best trained model which is logistic regression\n",
        "import joblib\n",
        "best_model = joblib.load('/content/drive/My Drive/music recommendation system/lr.pkl')"
      ],
      "execution_count": null,
      "outputs": []
    },
    {
      "cell_type": "code",
      "metadata": {
        "id": "btMMpIFL7Dvd",
        "colab_type": "code",
        "colab": {
          "base_uri": "https://localhost:8080/",
          "height": 34
        },
        "outputId": "63de19c7-716f-44f7-86d8-a7af2e3cbd90"
      },
      "source": [
        "# this function will take the x_test data points and predict the label as 0 or 1\n",
        "function_1(x_test, best_model)"
      ],
      "execution_count": null,
      "outputs": [
        {
          "output_type": "stream",
          "text": [
            "The label is :  [0 0 0 ... 0 0 0]\n"
          ],
          "name": "stdout"
        }
      ]
    },
    {
      "cell_type": "code",
      "metadata": {
        "id": "fb--y3um7FpM",
        "colab_type": "code",
        "colab": {
          "base_uri": "https://localhost:8080/",
          "height": 34
        },
        "outputId": "e793b6f9-5b2f-412e-8b4f-fb1bd49cd1a1"
      },
      "source": [
        "# this function will take the x_test data points ,y_test label and best model will return AUC score\n",
        "function_2(x_test, y_test, best_model)"
      ],
      "execution_count": null,
      "outputs": [
        {
          "output_type": "stream",
          "text": [
            "AUC is :  0.5001769128633236\n"
          ],
          "name": "stdout"
        }
      ]
    },
    {
      "cell_type": "markdown",
      "metadata": {
        "id": "JeEuCTHkAkwz",
        "colab_type": "text"
      },
      "source": [
        "#**SUMMARY**\n",
        "\n",
        "\n",
        "*   We have not used whole data due to RAM limitation\n",
        "*   If we used whole data then we might get better result\n",
        "*   If we do more hyperparameter than also we can get better result\n",
        "*   More feature engineering can be done\n",
        "*   In future new algorithm come specially for recommendation system we would get fantastic result\n",
        "\n",
        "\n",
        "\n"
      ]
    }
  ]
}